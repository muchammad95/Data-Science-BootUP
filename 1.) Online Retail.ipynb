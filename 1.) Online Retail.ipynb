{
 "cells": [
  {
   "cell_type": "code",
   "execution_count": 1,
   "metadata": {},
   "outputs": [],
   "source": [
    "import numpy as np\n",
    "import pandas as pd\n",
    "import matplotlib.pyplot as plt\n",
    "import seaborn as sns\n",
    "%matplotlib inline"
   ]
  },
  {
   "cell_type": "code",
   "execution_count": 2,
   "metadata": {},
   "outputs": [],
   "source": [
    "df = pd.read_excel('Online Retail.xlsx')"
   ]
  },
  {
   "cell_type": "code",
   "execution_count": 3,
   "metadata": {},
   "outputs": [],
   "source": [
    "df['totalPrice'] = df['UnitPrice']*df['Quantity']"
   ]
  },
  {
   "cell_type": "code",
   "execution_count": null,
   "metadata": {},
   "outputs": [],
   "source": [
    "df.head()"
   ]
  },
  {
   "cell_type": "code",
   "execution_count": null,
   "metadata": {},
   "outputs": [],
   "source": [
    "sns.heatmap(df.isnull())"
   ]
  },
  {
   "cell_type": "code",
   "execution_count": null,
   "metadata": {},
   "outputs": [],
   "source": [
    "df.dropna(subset=['CustomerID'],inplace=True)"
   ]
  },
  {
   "cell_type": "code",
   "execution_count": null,
   "metadata": {},
   "outputs": [],
   "source": [
    "sns.heatmap(df.isnull())"
   ]
  },
  {
   "cell_type": "code",
   "execution_count": null,
   "metadata": {},
   "outputs": [],
   "source": [
    "#Show statistic description of df\n",
    "df.describe().transpose()"
   ]
  },
  {
   "cell_type": "markdown",
   "metadata": {},
   "source": [
    "#Decide category of Most Spend"
   ]
  },
  {
   "cell_type": "code",
   "execution_count": null,
   "metadata": {},
   "outputs": [],
   "source": [
    "mostSpend = df.groupby('CustomerID').sum().sort_values('totalPrice',ascending = False)"
   ]
  },
  {
   "cell_type": "code",
   "execution_count": null,
   "metadata": {},
   "outputs": [],
   "source": [
    "limitMostSpend = [mostSpend.iloc[int(len(mostSpend)*0.25)]['totalPrice'],\n",
    "                  mostSpend.iloc[int(len(mostSpend)*0.5)]['totalPrice'],\n",
    "                  mostSpend.iloc[int(len(mostSpend)*0.75)]['totalPrice']]"
   ]
  },
  {
   "cell_type": "code",
   "execution_count": null,
   "metadata": {},
   "outputs": [],
   "source": [
    "limitMostSpend"
   ]
  },
  {
   "cell_type": "code",
   "execution_count": null,
   "metadata": {},
   "outputs": [],
   "source": [
    "spend_df=[]\n",
    "for item in df['totalPrice'] :\n",
    "    if item > limitMostSpend[0]:\n",
    "        spend_df.append(1)\n",
    "    elif (item <= limitMostSpend[0]) and (item > limitMostSpend[1]):\n",
    "        spend_df.append(2)\n",
    "    elif (item <= limitMostSpend[1]) and (item > limitMostSpend[2]):\n",
    "        spend_df.append(3)\n",
    "    elif item <= limitMostSpend[2]:\n",
    "        spend_df.append(4)\n",
    "df['Spend Group'] = spend_df"
   ]
  },
  {
   "cell_type": "code",
   "execution_count": null,
   "metadata": {},
   "outputs": [],
   "source": [
    "df.head()"
   ]
  },
  {
   "cell_type": "markdown",
   "metadata": {},
   "source": [
    "#Decide category of Most Recent"
   ]
  },
  {
   "cell_type": "code",
   "execution_count": null,
   "metadata": {},
   "outputs": [],
   "source": [
    "trialID = []\n",
    "for item in df.sort_values(by=['InvoiceDate'],ascending=False).drop_duplicates(subset=['CustomerID'])['CustomerID']:\n",
    "    trialID.append(item)"
   ]
  },
  {
   "cell_type": "code",
   "execution_count": null,
   "metadata": {},
   "outputs": [],
   "source": [
    "recent_df=[]\n",
    "for item in df['CustomerID'] :\n",
    "    if item in trialID[:1094]:\n",
    "        recent_df.append(1)\n",
    "    elif item in trialID[1094:2187]:\n",
    "        recent_df.append(2)\n",
    "    elif item in trialID[2187:3280]:\n",
    "        recent_df.append(3)\n",
    "    elif item in trialID[3280:]:\n",
    "        recent_df.append(4)"
   ]
  },
  {
   "cell_type": "code",
   "execution_count": null,
   "metadata": {},
   "outputs": [],
   "source": [
    "df['Recent Group'] = recent_df"
   ]
  },
  {
   "cell_type": "code",
   "execution_count": null,
   "metadata": {},
   "outputs": [],
   "source": [
    "df.head()"
   ]
  },
  {
   "cell_type": "code",
   "execution_count": null,
   "metadata": {},
   "outputs": [],
   "source": [
    "#Decide category of Most Frequent"
   ]
  },
  {
   "cell_type": "code",
   "execution_count": null,
   "metadata": {},
   "outputs": [],
   "source": [
    "trialID = []\n",
    "for item in df.groupby('CustomerID').agg('count').sort_values('InvoiceNo',ascending=False).reset_index()['CustomerID']:\n",
    "    trialID.append(item)"
   ]
  },
  {
   "cell_type": "code",
   "execution_count": null,
   "metadata": {},
   "outputs": [],
   "source": [
    "freq_df=[]\n",
    "for item in df['CustomerID'] :\n",
    "    if item in trialID[:1094]:\n",
    "        freq_df.append(1)\n",
    "    elif item in trialID[1094:2187]:\n",
    "        freq_df.append(2)\n",
    "    elif item in trialID[2187:3280]:\n",
    "        freq_df.append(3)\n",
    "    elif item in trialID[3280:]:\n",
    "        freq_df.append(4)"
   ]
  },
  {
   "cell_type": "code",
   "execution_count": null,
   "metadata": {},
   "outputs": [],
   "source": [
    "df['Frequency Group'] = freq_df"
   ]
  },
  {
   "cell_type": "code",
   "execution_count": null,
   "metadata": {},
   "outputs": [],
   "source": [
    "df['Group'] = df['Recent Group'].astype('str') + df['Frequency Group'].astype('str') + df['Spend Group'].astype('str')"
   ]
  },
  {
   "cell_type": "code",
   "execution_count": null,
   "metadata": {},
   "outputs": [],
   "source": [
    "df"
   ]
  },
  {
   "cell_type": "code",
   "execution_count": null,
   "metadata": {},
   "outputs": [],
   "source": [
    "df['Group'].unique()"
   ]
  },
  {
   "cell_type": "code",
   "execution_count": null,
   "metadata": {},
   "outputs": [],
   "source": [
    "df_111 = df[df['Group'] == '111'][['CustomerID','Group']]"
   ]
  },
  {
   "cell_type": "code",
   "execution_count": null,
   "metadata": {},
   "outputs": [],
   "source": [
    "df_311 = df[df['Group'] == '311'][['CustomerID','Group']]"
   ]
  },
  {
   "cell_type": "code",
   "execution_count": null,
   "metadata": {},
   "outputs": [],
   "source": [
    "df_411 = df[df['Group'] == '411'][['CustomerID','Group']]"
   ]
  },
  {
   "cell_type": "code",
   "execution_count": null,
   "metadata": {},
   "outputs": [],
   "source": [
    "df_111.shape"
   ]
  },
  {
   "cell_type": "code",
   "execution_count": null,
   "metadata": {},
   "outputs": [],
   "source": [
    "df_311.shape"
   ]
  },
  {
   "cell_type": "code",
   "execution_count": null,
   "metadata": {},
   "outputs": [],
   "source": [
    "df_411.shape"
   ]
  },
  {
   "cell_type": "code",
   "execution_count": null,
   "metadata": {},
   "outputs": [],
   "source": [
    "#df_111.to_csv('customerid_111.csv',index=False)\n",
    "#df_311.to_csv('customerid_311.csv',index=False)\n",
    "#df_411.to_csv('customerid_411.csv',index=False)"
   ]
  }
 ],
 "metadata": {
  "kernelspec": {
   "display_name": "Python 3",
   "language": "python",
   "name": "python3"
  },
  "language_info": {
   "codemirror_mode": {
    "name": "ipython",
    "version": 3
   },
   "file_extension": ".py",
   "mimetype": "text/x-python",
   "name": "python",
   "nbconvert_exporter": "python",
   "pygments_lexer": "ipython3",
   "version": "3.8.3"
  }
 },
 "nbformat": 4,
 "nbformat_minor": 4
}
